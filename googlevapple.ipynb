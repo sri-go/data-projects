{
 "cells": [
  {
   "cell_type": "markdown",
   "metadata": {},
   "source": [
    "# Identifying Opportunities in Android and IOS Application Markets\n",
    "\n",
    "## Introduction\n",
    "For this project, I am interested in learning more about the mobile application market. The goal of this project is to help me understand what type of apps are likely to attract more users on Google Play and the iOS App Store. The following are the data sets that will be used throughout the project:\n",
    "\n",
    "A dataset containing data about approximately 10,000 Android apps from Google Play; the data was collected in August 2018. You can download the data set directly from this [link]('https://dq-content.s3.amazonaws.com/350/googleplaystore.csv')\n",
    "\n",
    "A dataset containing data about approximately 7,000 IOS apps from the App Store; the data was collected in July 2017. You can download the data set directly from this [link]('https://dq-content.s3.amazonaws.com/350/AppleStore.csv')\n",
    "\n",
    "In order to make our recommendations, I will try to examine:\n",
    "\n",
    "The most common apps by genre\n",
    "Apps with the highest number of users by genre\n",
    "The highest rated apps by genre"
   ]
  },
  {
   "cell_type": "markdown",
   "metadata": {},
   "source": [
    "### Data Exploration\n",
    "Let's start by opening the two datasets and continue with exploring the data"
   ]
  },
  {
   "cell_type": "code",
   "execution_count": 1,
   "metadata": {},
   "outputs": [],
   "source": [
    "from csv import reader\n",
    "\n",
    "# The App store dataset#\n",
    "open_file = open('AppleStore.csv')\n",
    "read_file = reader(open_file)\n",
    "Ios = list(read_file)\n",
    "Ios_header = Ios[0]\n",
    "Ios = Ios[1:]\n",
    "\n",
    "# The google play store dataset#\n",
    "open_file = open('googleplaystore.csv')\n",
    "read_file = reader(open_file)\n",
    "android = list(read_file)\n",
    "android_header = android[0]\n",
    "android = android[1:]\n",
    "\n"
   ]
  },
  {
   "cell_type": "markdown",
   "metadata": {},
   "source": [
    "To make it easier to explore the two dataset, I created a function named explore_data() that I can use repeatedly to explore rows in a readable way. I will also add an option for our function to show the number of rows and columns for any data set."
   ]
  },
  {
   "cell_type": "code",
   "execution_count": 2,
   "metadata": {},
   "outputs": [
    {
     "output_type": "stream",
     "name": "stdout",
     "text": "['id', 'track_name', 'size_bytes', 'currency', 'price', 'rating_count_tot', 'rating_count_ver', 'user_rating', 'user_rating_ver', 'ver', 'cont_rating', 'prime_genre', 'sup_devices.num', 'ipadSc_urls.num', 'lang.num', 'vpp_lic']\n\n\n['284882215', 'Facebook', '389879808', 'USD', '0.0', '2974676', '212', '3.5', '3.5', '95.0', '4+', 'Social Networking', '37', '1', '29', '1']\n\n\n['389801252', 'Instagram', '113954816', 'USD', '0.0', '2161558', '1289', '4.5', '4.0', '10.23', '12+', 'Photo & Video', '37', '0', '29', '1']\n\n\n['529479190', 'Clash of Clans', '116476928', 'USD', '0.0', '2130805', '579', '4.5', '4.5', '9.24.12', '9+', 'Games', '38', '5', '18', '1']\n\n\nNumber of rows: 7197\nNumber of columns: 16\n"
    }
   ],
   "source": [
    "def explore_data(dataset, start, end, row_and_columns = False):\n",
    "    dataset_slice = dataset[start:end]\n",
    "    \n",
    "    for row in dataset_slice:\n",
    "        print(row)\n",
    "        print('\\n') #adds a new (empty) line after each row\n",
    "        \n",
    "    if row_and_columns:\n",
    "        print('Number of rows:',len(dataset))\n",
    "        print('Number of columns:',len(dataset[0]))\n",
    "\n",
    "print(Ios_header)\n",
    "print('\\n')\n",
    "explore_data(Ios , 0, 3, True)"
   ]
  },
  {
   "cell_type": "markdown",
   "metadata": {},
   "source": [
    "I have 7197 IOS apps and 16 columns in our dataset. Out of this some of the column names seems interesting like \"price\",\"currency\", \"rating_count_tot\",\"prime_genre\" etc. Not all the column names are self explanatory, in this case details about each column can be found in the dataset documentation"
   ]
  },
  {
   "cell_type": "markdown",
   "metadata": {},
   "source": [
    "Now let's take a look at Google play store dataset\n"
   ]
  },
  {
   "cell_type": "code",
   "execution_count": 3,
   "metadata": {},
   "outputs": [
    {
     "output_type": "stream",
     "name": "stdout",
     "text": "['App', 'Category', 'Rating', 'Reviews', 'Size', 'Installs', 'Type', 'Price', 'Content Rating', 'Genres', 'Last Updated', 'Current Ver', 'Android Ver']\n\n\n['Photo Editor & Candy Camera & Grid & ScrapBook', 'ART_AND_DESIGN', '4.1', '159', '19M', '10,000+', 'Free', '0', 'Everyone', 'Art & Design', 'January 7, 2018', '1.0.0', '4.0.3 and up']\n\n\n['Coloring book moana', 'ART_AND_DESIGN', '3.9', '967', '14M', '500,000+', 'Free', '0', 'Everyone', 'Art & Design;Pretend Play', 'January 15, 2018', '2.0.0', '4.0.3 and up']\n\n\n['U Launcher Lite – FREE Live Cool Themes, Hide Apps', 'ART_AND_DESIGN', '4.7', '87510', '8.7M', '5,000,000+', 'Free', '0', 'Everyone', 'Art & Design', 'August 1, 2018', '1.2.4', '4.0.3 and up']\n\n\nNumber of rows: 10841\nNumber of columns: 13\n"
    }
   ],
   "source": [
    "print(android_header)\n",
    "print('\\n')\n",
    "explore_data(android, 0, 3, True)"
   ]
  },
  {
   "cell_type": "markdown",
   "metadata": {},
   "source": [
    "I have 10841 Google apps and 13 columns in this dataset. Out of which some of the columns like \"app\", \"Price\", \"Category\", \"Genres' etc might be useful for our analysis."
   ]
  },
  {
   "cell_type": "markdown",
   "metadata": {},
   "source": [
    "### Data Cleaning\n"
   ]
  },
  {
   "cell_type": "markdown",
   "metadata": {},
   "source": [
    "The Google Play data set has a dedicated discussion [section]('https://www.kaggle.com/lava18/google-play-store-apps/discussion'), and I can see that one of the [discussions]('https://www.kaggle.com/lava18/google-play-store-apps/discussion/66015') describes an error for a row 10472. let's check it out by printing this row and compare against with header and another row that is correct.\n",
    "\n"
   ]
  },
  {
   "cell_type": "code",
   "execution_count": 4,
   "metadata": {},
   "outputs": [
    {
     "output_type": "stream",
     "name": "stdout",
     "text": "['Life Made WI-Fi Touchscreen Photo Frame', '1.9', '19', '3.0M', '1,000+', 'Free', '0', 'Everyone', '', 'February 11, 2018', '1.0.19', '4.0 and up']\n\n\n['App', 'Category', 'Rating', 'Reviews', 'Size', 'Installs', 'Type', 'Price', 'Content Rating', 'Genres', 'Last Updated', 'Current Ver', 'Android Ver']\n\n\n['Photo Editor & Candy Camera & Grid & ScrapBook', 'ART_AND_DESIGN', '4.1', '159', '19M', '10,000+', 'Free', '0', 'Everyone', 'Art & Design', 'January 7, 2018', '1.0.0', '4.0.3 and up']\n"
    }
   ],
   "source": [
    "print(android[10472]) #wrong row\n",
    "print('\\n')\n",
    "print(android_header) #header row\n",
    "print('\\n')\n",
    "print(android[0]) #correct row"
   ]
  },
  {
   "cell_type": "markdown",
   "metadata": {},
   "source": [
    "The row 10472 corresponds to the app 'Life Made WI-Fi Touchscreen Photo Frame', and the column shift happened for next columns so the rating is showing as 19. This is clearly off because the maximum rating for a Google Play app is 5. I can take care of this by deleting the row.\n",
    "\n"
   ]
  },
  {
   "cell_type": "code",
   "execution_count": 5,
   "metadata": {},
   "outputs": [
    {
     "output_type": "stream",
     "name": "stdout",
     "text": "10841\n10840\n"
    }
   ],
   "source": [
    "print(len(android))\n",
    "del android[10472] #Don't run this statement more than once\n",
    "print(len(android))"
   ]
  },
  {
   "cell_type": "markdown",
   "metadata": {},
   "source": [
    "### Handling Duplicate Data\n",
    "Now let's confirm that each app has only one entry in the dataset\n",
    "\n",
    "\n"
   ]
  },
  {
   "cell_type": "code",
   "execution_count": 6,
   "metadata": {},
   "outputs": [
    {
     "output_type": "stream",
     "name": "stdout",
     "text": "Number of duplicate apps: 1181\n\n\nExamples of duplicate apps: ['Quick PDF Scanner + OCR FREE', 'Box', 'Google My Business', 'ZOOM Cloud Meetings', 'join.me - Simple Meetings', 'Box', 'Zenefits', 'Google Ads', 'Google My Business', 'Slack', 'FreshBooks Classic', 'Insightly CRM', 'QuickBooks Accounting: Invoicing & Expenses', 'HipChat - Chat Built for Teams', 'Xero Accounting Software', 'MailChimp - Email, Marketing Automation', 'Crew - Free Messaging and Scheduling', 'Asana: organize team projects', 'Google Analytics', 'AdWords Express']\n"
    }
   ],
   "source": [
    "duplicate_apps = [] #This is for storing duplicate apps\n",
    "unique_apps = []   # This is for storing unique apps\n",
    "\n",
    "for app in android:\n",
    "    name = app[0]\n",
    "    if name in unique_apps:\n",
    "        duplicate_apps.append(name)\n",
    "    else:\n",
    "        unique_apps.append(name)\n",
    "print('Number of duplicate apps:', len(duplicate_apps))\n",
    "print('\\n')\n",
    "print('Examples of duplicate apps:',duplicate_apps[:20])"
   ]
  },
  {
   "cell_type": "markdown",
   "metadata": {},
   "source": [
    "I do not want to include duplicate apps data in our analysis, therefore I will remove them and keep only one entry per app. First, let's confirm if there are any differences between each duplicate app entries.\n",
    "\n"
   ]
  },
  {
   "cell_type": "code",
   "execution_count": 7,
   "metadata": {},
   "outputs": [
    {
     "output_type": "stream",
     "name": "stdout",
     "text": "['Slack', 'BUSINESS', '4.4', '51507', 'Varies with device', '5,000,000+', 'Free', '0', 'Everyone', 'Business', 'August 2, 2018', 'Varies with device', 'Varies with device']\n['Slack', 'BUSINESS', '4.4', '51507', 'Varies with device', '5,000,000+', 'Free', '0', 'Everyone', 'Business', 'August 2, 2018', 'Varies with device', 'Varies with device']\n['Slack', 'BUSINESS', '4.4', '51510', 'Varies with device', '5,000,000+', 'Free', '0', 'Everyone', 'Business', 'August 2, 2018', 'Varies with device', 'Varies with device']\n"
    }
   ],
   "source": [
    "#Print all data for one of the apps with duplicate entries\n",
    "for app in android:\n",
    "    name = app[0]\n",
    "    if name == 'Slack':\n",
    "        print(app)"
   ]
  },
  {
   "cell_type": "markdown",
   "metadata": {},
   "source": [
    "It looks like the number of reviews is higher for the last entry for the Slack app. Therefore, I can assume that these rows were likely pulled at a different time. Instead of removing the rows randomly, I will want to keep rows with the highest number of reviews.\n",
    "\n",
    "Let's proceed by doing the following steps:\n",
    "\n",
    "+ Create a dictionary where each key is a unique app name and the corresponding dictionary value is the highest number of review for that app\n",
    "\n",
    "+ Use the information stored in the dictionary to create a new data set, which will only have one entry per app\n",
    "\n"
   ]
  },
  {
   "cell_type": "markdown",
   "metadata": {},
   "source": [
    "### Handling duplicate data: Step 1 - Creating a Dictionary\n",
    "\n",
    "\n"
   ]
  },
  {
   "cell_type": "code",
   "execution_count": 8,
   "metadata": {
    "tags": [
     "outputPrepend",
     "outputPrepend",
     "outputPrepend",
     "outputPrepend",
     "outputPrepend",
     "outputPrepend"
    ]
   },
   "outputs": [],
   "source": [
    "reviews_max = {}\n",
    "for app in android:\n",
    "    name = app[0]\n",
    "    n_reviews = float(app[3])\n",
    "    \n",
    "    if name in reviews_max and reviews_max[name] < n_reviews:\n",
    "        reviews_max[name] = n_reviews\n",
    "        \n",
    "    elif name not in reviews_max:\n",
    "        reviews_max[name] = n_reviews"
   ]
  },
  {
   "cell_type": "markdown",
   "metadata": {},
   "source": [
    "Since I know that the number of duplicate apps is 1,181, I can confirm that the number of de-duplicated data set under reviews_max dictionary is correct\n",
    "\n"
   ]
  },
  {
   "cell_type": "code",
   "execution_count": 9,
   "metadata": {},
   "outputs": [
    {
     "output_type": "stream",
     "name": "stdout",
     "text": "Expected length: 9659\nActual lenghth: 9659\n"
    }
   ],
   "source": [
    "print('Expected length:', len(android) - 1181)\n",
    "print('Actual lenghth:', len(reviews_max))"
   ]
  },
  {
   "cell_type": "markdown",
   "metadata": {},
   "source": [
    "### Handling duplicate data: Step 2 : Removing duplicate rows\n",
    "\n",
    "From the above, it is evident that the reviews_max dictionary is pulling the proper data set, I want use that to remove duplicate rows on our Google Play data set."
   ]
  },
  {
   "cell_type": "code",
   "execution_count": 10,
   "metadata": {},
   "outputs": [],
   "source": [
    "android_clean= [] #stores our new cleaned dataset\n",
    "already_added = [] # stores our app names\n",
    "\n",
    "for app in android:\n",
    "    name = app[0]\n",
    "    n_reviews = float(app[3])\n",
    "    \n",
    "    \n",
    "# Add the row to android_clean list and the app name to the already_clean list if:\n",
    "# 1. The app's number of reviews matches the app's number of reviews on reviews_max dictionary\n",
    "# 2. The app name is not already in already_added list (in case the highest number of reviews of a duplicate app is the same for more than one entry)\n",
    "\n",
    "    if (n_reviews == reviews_max[name]) and (name not in already_added):\n",
    "        android_clean.append(app)\n",
    "        already_added.append(name)"
   ]
  },
  {
   "cell_type": "markdown",
   "metadata": {},
   "source": [
    "Let's explore the new dataset to confirm the number of rows turns out to be 9659\n",
    "\n"
   ]
  },
  {
   "cell_type": "code",
   "execution_count": 11,
   "metadata": {},
   "outputs": [
    {
     "output_type": "stream",
     "name": "stdout",
     "text": "['Photo Editor & Candy Camera & Grid & ScrapBook', 'ART_AND_DESIGN', '4.1', '159', '19M', '10,000+', 'Free', '0', 'Everyone', 'Art & Design', 'January 7, 2018', '1.0.0', '4.0.3 and up']\n\n\n['U Launcher Lite – FREE Live Cool Themes, Hide Apps', 'ART_AND_DESIGN', '4.7', '87510', '8.7M', '5,000,000+', 'Free', '0', 'Everyone', 'Art & Design', 'August 1, 2018', '1.2.4', '4.0.3 and up']\n\n\n['Sketch - Draw & Paint', 'ART_AND_DESIGN', '4.5', '215644', '25M', '50,000,000+', 'Free', '0', 'Teen', 'Art & Design', 'June 8, 2018', 'Varies with device', '4.2 and up']\n\n\nNumber of rows: 9659\nNumber of columns: 13\n"
    }
   ],
   "source": [
    "explore_data(android_clean, 0, 3, True)"
   ]
  },
  {
   "cell_type": "markdown",
   "metadata": {},
   "source": [
    "The clean dataset have 9659 rows, which is indeed as expected"
   ]
  },
  {
   "cell_type": "markdown",
   "metadata": {},
   "source": [
    "### Handling Non- English Apps\n",
    "\n",
    "Since I am only interesed in the english apps on the respective stores, I am only including apps that are directed to English-speaking audience. According to the ASCII (American Standard Code for Information Interchange) system, the numbers corresponding to the characters we commonly use in an English text are all in the range of 0 to 127. Therefore, if the app name contains a character that is greater than 127, it means that the app likely has a non-English name."
   ]
  },
  {
   "cell_type": "code",
   "execution_count": 12,
   "metadata": {},
   "outputs": [
    {
     "output_type": "stream",
     "name": "stdout",
     "text": "True\nFalse\nTrue\nTrue\n"
    }
   ],
   "source": [
    "# Create a function that will return 'False' if the character is greater than 127\n",
    "def is_english(string):\n",
    "    for character in string:\n",
    "        if (ord(character)) > 127:\n",
    "            return False\n",
    "        \n",
    "        return True\n",
    "    \n",
    "# Test our function on some English and Non English app names\n",
    "print(is_english('Instagram'))\n",
    "print(is_english('爱奇艺PPS -《欢乐颂2》电视剧热播'))\n",
    "print(is_english('Docs To Go™ Free Office Suite'))\n",
    "print(is_english('Instachat 😜'))"
   ]
  },
  {
   "cell_type": "markdown",
   "metadata": {},
   "source": [
    "If you observe clearly the last two apps are likely targeted to an English-speaking audience, our function still recognizes it as a non-English app. This is because emojis and ™ symbol falls outside the ASCII range and have corresponding numbers greater than 127."
   ]
  },
  {
   "cell_type": "code",
   "execution_count": 13,
   "metadata": {},
   "outputs": [
    {
     "output_type": "stream",
     "name": "stdout",
     "text": "8482\n128540\n"
    }
   ],
   "source": [
    "print(ord('™'))\n",
    "print(ord('😜'))"
   ]
  },
  {
   "cell_type": "markdown",
   "metadata": {},
   "source": [
    "To minimize the impact of data loss, I'll only remove an app if its name has more than three characters with corresponding numbers falling outside the ASCII range. In this case the filter function is not perfect, but it should be fairly effective\n",
    "\n"
   ]
  },
  {
   "cell_type": "code",
   "execution_count": 14,
   "metadata": {},
   "outputs": [
    {
     "output_type": "stream",
     "name": "stdout",
     "text": "True\nTrue\nFalse\n"
    }
   ],
   "source": [
    "def is_english(string):\n",
    "    non_ascii = 0\n",
    "\n",
    "# Create a loop that counts the number of characters that falls outside of ASCII range\n",
    "    for character in string:\n",
    "        if (ord(character)) > 127:\n",
    "            non_ascii += 1\n",
    "            \n",
    "    if non_ascii > 3:\n",
    "        return False\n",
    "    else:\n",
    "        return True\n",
    "    \n",
    "print(is_english('Docs To Go™ Free Office Suite'))\n",
    "print(is_english('Instachat 😜'))\n",
    "print(is_english('爱奇艺PPS -《欢乐颂2》电视剧热播'))"
   ]
  },
  {
   "cell_type": "markdown",
   "metadata": {},
   "source": [
    "I confirmed that this new version of the function will not exclude apps that may only contain emojis or symbols. Now, I can use this function to remove any non-English apps from the data set\n",
    "\n"
   ]
  },
  {
   "cell_type": "code",
   "execution_count": 15,
   "metadata": {},
   "outputs": [
    {
     "output_type": "stream",
     "name": "stdout",
     "text": "['Photo Editor & Candy Camera & Grid & ScrapBook', 'ART_AND_DESIGN', '4.1', '159', '19M', '10,000+', 'Free', '0', 'Everyone', 'Art & Design', 'January 7, 2018', '1.0.0', '4.0.3 and up']\n\n\n['U Launcher Lite – FREE Live Cool Themes, Hide Apps', 'ART_AND_DESIGN', '4.7', '87510', '8.7M', '5,000,000+', 'Free', '0', 'Everyone', 'Art & Design', 'August 1, 2018', '1.2.4', '4.0.3 and up']\n\n\n['Sketch - Draw & Paint', 'ART_AND_DESIGN', '4.5', '215644', '25M', '50,000,000+', 'Free', '0', 'Teen', 'Art & Design', 'June 8, 2018', 'Varies with device', '4.2 and up']\n\n\nNumber of rows: 9614\nNumber of columns: 13\n\n\n['284882215', 'Facebook', '389879808', 'USD', '0.0', '2974676', '212', '3.5', '3.5', '95.0', '4+', 'Social Networking', '37', '1', '29', '1']\n\n\n['389801252', 'Instagram', '113954816', 'USD', '0.0', '2161558', '1289', '4.5', '4.0', '10.23', '12+', 'Photo & Video', '37', '0', '29', '1']\n\n\n['529479190', 'Clash of Clans', '116476928', 'USD', '0.0', '2130805', '579', '4.5', '4.5', '9.24.12', '9+', 'Games', '38', '5', '18', '1']\n\n\nNumber of rows: 6183\nNumber of columns: 16\n"
    }
   ],
   "source": [
    "android_english = []\n",
    "Ios_english = []\n",
    "\n",
    "for app in android_clean:\n",
    "    name = app[0]\n",
    "    if is_english(name):\n",
    "        android_english.append(app)\n",
    "        \n",
    "for app in Ios:\n",
    "    name = app[1]\n",
    "    if is_english(name):\n",
    "        Ios_english.append(app)\n",
    "    \n",
    "\n",
    "explore_data(android_english, 0, 3, True)\n",
    "print('\\n')\n",
    "explore_data(Ios_english, 0, 3, True)"
   ]
  },
  {
   "cell_type": "markdown",
   "metadata": {},
   "source": [
    "After removing any non-English apps, I am left with 9,614 Android apps and 6,183 IOS apps."
   ]
  },
  {
   "cell_type": "markdown",
   "metadata": {},
   "source": [
    "### Handling paid apps data\n",
    "\n",
    "As I mentiond above, I am only interested in apps that are free to download and installs, so I am removing all the paid apps from the dataset.\n",
    "\n"
   ]
  },
  {
   "cell_type": "code",
   "execution_count": 16,
   "metadata": {},
   "outputs": [
    {
     "output_type": "stream",
     "name": "stdout",
     "text": "8864\n3222\n"
    }
   ],
   "source": [
    "#Creating a loop for Android that will append free apps to our final list\n",
    "\n",
    "android_final = []\n",
    "for app in android_english:\n",
    "    price = app[7]\n",
    "    if price == '0':\n",
    "        android_final.append(app)\n",
    "        \n",
    "#Creating a loop for IOS that will append free apps to our final list\n",
    "Ios_final = []\n",
    "for app in Ios_english:\n",
    "    price = app[4]\n",
    "    if price == '0.0':\n",
    "        Ios_final.append(app)\n",
    "\n",
    "print(len(android_final))\n",
    "print(len(Ios_final))"
   ]
  },
  {
   "cell_type": "markdown",
   "metadata": {},
   "source": [
    "Finally I am left with 8864 Android apps and 3222 IOS apps, which should be enough to move forward with the analysis.\n"
   ]
  },
  {
   "cell_type": "markdown",
   "metadata": {},
   "source": [
    "### Data Analysis\n",
    "As I am interested in developing an app that is successful, I want to figure out the correct market to target. \n",
    "\n",
    "To minimize risk and overhead, my validation strategy for an app idea is comprised of the following steps:\n",
    "\n",
    "+ Build a minimal Android version of the app, and add it to Google Play\n",
    "+ Observe users response towards the app, develop further as needed\n",
    "+ If the app is profitable within six months, I can build an iOS version of the app and add it to the App Store\n",
    "\n",
    "In the end, I want to create an app on both Apple App Store and Google Play. Therefore, it is important to determine which app profile is most successful on both markets."
   ]
  },
  {
   "cell_type": "markdown",
   "metadata": {},
   "source": [
    "### Most Common Apps by Genre\n",
    "\n",
    "Let's begin the analysis by getting a sense of the most common genres on each market. Let's build a frequency table for the prime_genre column of the Apple App Store data set, and the Genres and Category columns of the Google Play data set.\n",
    "\n",
    "In order to proceed further I will create two seperate functions to understand our analysis better:\n",
    "\n",
    "1. A function to generate frequency tables that will also show percentages\n",
    "2. A function that can display the percentages in a descending order"
   ]
  },
  {
   "cell_type": "code",
   "execution_count": 17,
   "metadata": {},
   "outputs": [],
   "source": [
    "#Function 1- Generate frequency table that shows percentage of total\n",
    "\n",
    "def freq_table(dataset, index):\n",
    "    table = {}\n",
    "    total = 0\n",
    "    \n",
    "    # Count app frequency\n",
    "    for row in dataset:\n",
    "        total += 1\n",
    "        value = row[index]\n",
    "        if value in table:\n",
    "            table[value] += 1\n",
    "        else:\n",
    "            table[value] = 1\n",
    "    \n",
    "    # Calculate the app frequency as a percentage of total\n",
    "    table_percentages = {}\n",
    "    for key in table:\n",
    "        percentage = (table[key] / total) * 100\n",
    "        table_percentages[key] = percentage\n",
    "        \n",
    "    return table_percentages\n",
    "\n",
    "# Function 2: Display frequency table in a descending order\n",
    "\n",
    "def display_table(dataset, index):\n",
    "    table = freq_table(dataset, index)\n",
    "    table_display = []\n",
    "    \n",
    "    # Transform frequency table into a list of tuples \n",
    "    for key in table:\n",
    "        key_val_as_tuple = (table[key], key)\n",
    "        table_display.append(key_val_as_tuple)\n",
    "    \n",
    "    # Sort the list in a descending order\n",
    "    table_sorted = sorted(table_display, reverse = True)\n",
    "    for entry in table_sorted:\n",
    "        print(entry[1], ':', entry[0])"
   ]
  },
  {
   "cell_type": "markdown",
   "metadata": {},
   "source": [
    "I can now use the display_table function to explore our data set. Let's start by exploring the prime_genre column of the Apple App Store data set."
   ]
  },
  {
   "cell_type": "code",
   "execution_count": 18,
   "metadata": {},
   "outputs": [
    {
     "output_type": "stream",
     "name": "stdout",
     "text": "Games : 58.16263190564867\nEntertainment : 7.883302296710118\nPhoto & Video : 4.9658597144630665\nEducation : 3.662321539416512\nSocial Networking : 3.2898820608317814\nShopping : 2.60707635009311\nUtilities : 2.5139664804469275\nSports : 2.1415270018621975\nMusic : 2.0484171322160147\nHealth & Fitness : 2.0173805090006205\nProductivity : 1.7380509000620732\nLifestyle : 1.5828677839851024\nNews : 1.3345747982619491\nTravel : 1.2414649286157666\nFinance : 1.1173184357541899\nWeather : 0.8690254500310366\nFood & Drink : 0.8069522036002483\nReference : 0.5586592178770949\nBusiness : 0.5276225946617008\nBook : 0.4345127250155183\nNavigation : 0.186219739292365\nMedical : 0.186219739292365\nCatalogs : 0.12414649286157665\n"
    }
   ],
   "source": [
    "display_table(Ios_final,-5)\n"
   ]
  },
  {
   "cell_type": "markdown",
   "metadata": {},
   "source": [
    "Based on this result, it can be inferred that the majority of the free English apps on the Apple App Store are Games (58.16%). The runner-up genre is Entertainment, which only has 7.88% of the market share, followed by Photo & Video apps at 4.96%. On the other hand,the least common apps are comprised of Navigation, Medical and Catalogs apps, each only takes up less than 0.2% of the apps in our data set.\n",
    "\n",
    "The general impression is that Apple App Store is currently dominated by apps that are designed for fun, such as games, entertainment, photo and video, etc. Whereas apps with practical purposes, like productivity, finance, and navigation, are more rare. However, the number of fun apps does not necessarily imply that they have the highest number of users, as the demand might not be the same as the offer.\n",
    "\n",
    "Next, I will explore the Genres and Category columns of the Google Play data set.Because I am are currently unsure which column pertains to the actual genre."
   ]
  },
  {
   "cell_type": "code",
   "execution_count": 19,
   "metadata": {},
   "outputs": [
    {
     "output_type": "stream",
     "name": "stdout",
     "text": "FAMILY : 18.907942238267147\nGAME : 9.724729241877256\nTOOLS : 8.461191335740072\nBUSINESS : 4.591606498194946\nLIFESTYLE : 3.9034296028880866\nPRODUCTIVITY : 3.892148014440433\nFINANCE : 3.7003610108303246\nMEDICAL : 3.531137184115524\nSPORTS : 3.395758122743682\nPERSONALIZATION : 3.3167870036101084\nCOMMUNICATION : 3.2378158844765346\nHEALTH_AND_FITNESS : 3.0798736462093865\nPHOTOGRAPHY : 2.944494584837545\nNEWS_AND_MAGAZINES : 2.7978339350180503\nSOCIAL : 2.6624548736462095\nTRAVEL_AND_LOCAL : 2.33528880866426\nSHOPPING : 2.2450361010830324\nBOOKS_AND_REFERENCE : 2.1435018050541514\nDATING : 1.861462093862816\nVIDEO_PLAYERS : 1.7937725631768955\nMAPS_AND_NAVIGATION : 1.3989169675090252\nFOOD_AND_DRINK : 1.2409747292418771\nEDUCATION : 1.1620036101083033\nENTERTAINMENT : 0.9589350180505415\nLIBRARIES_AND_DEMO : 0.9363718411552346\nAUTO_AND_VEHICLES : 0.9250902527075812\nHOUSE_AND_HOME : 0.8235559566787004\nWEATHER : 0.8009927797833934\nEVENTS : 0.7107400722021661\nPARENTING : 0.6543321299638989\nART_AND_DESIGN : 0.6430505415162455\nCOMICS : 0.6204873646209386\nBEAUTY : 0.5979241877256317\n"
    }
   ],
   "source": [
    "display_table(android_final,1) #category column"
   ]
  },
  {
   "cell_type": "markdown",
   "metadata": {},
   "source": [
    "Google Play market has more share for apps with \"practical genres\" comparatively to IOS App store data. You can observe that a good number of apps are designed for practical purposes(family, tools, business, finance, etc.) However, if You look into Family genre (accounts for 18.9% of the Google Play market), it appears to actually consist of games for kids. Therefore, you may also conclude that the top apps in Google Play market also consist of apps that are designed for fun.\n",
    "\n"
   ]
  },
  {
   "cell_type": "code",
   "execution_count": 20,
   "metadata": {},
   "outputs": [
    {
     "output_type": "stream",
     "name": "stdout",
     "text": "Tools : 8.449909747292418\nEntertainment : 6.069494584837545\nEducation : 5.347472924187725\nBusiness : 4.591606498194946\nProductivity : 3.892148014440433\nLifestyle : 3.892148014440433\nFinance : 3.7003610108303246\nMedical : 3.531137184115524\nSports : 3.463447653429603\nPersonalization : 3.3167870036101084\nCommunication : 3.2378158844765346\nAction : 3.1024368231046933\nHealth & Fitness : 3.0798736462093865\nPhotography : 2.944494584837545\nNews & Magazines : 2.7978339350180503\nSocial : 2.6624548736462095\nTravel & Local : 2.3240072202166067\nShopping : 2.2450361010830324\nBooks & Reference : 2.1435018050541514\nSimulation : 2.0419675090252705\nDating : 1.861462093862816\nArcade : 1.8501805054151623\nVideo Players & Editors : 1.7712093862815883\nCasual : 1.7599277978339352\nMaps & Navigation : 1.3989169675090252\nFood & Drink : 1.2409747292418771\nPuzzle : 1.128158844765343\nRacing : 0.9927797833935018\nRole Playing : 0.9363718411552346\nLibraries & Demo : 0.9363718411552346\nAuto & Vehicles : 0.9250902527075812\nStrategy : 0.9138086642599278\nHouse & Home : 0.8235559566787004\nWeather : 0.8009927797833934\nEvents : 0.7107400722021661\nAdventure : 0.6768953068592057\nComics : 0.6092057761732852\nBeauty : 0.5979241877256317\nArt & Design : 0.5979241877256317\nParenting : 0.4963898916967509\nCard : 0.45126353790613716\nCasino : 0.42870036101083037\nTrivia : 0.41741877256317694\nEducational;Education : 0.39485559566787\nBoard : 0.3835740072202166\nEducational : 0.3722924187725632\nEducation;Education : 0.33844765342960287\nWord : 0.2594765342960289\nCasual;Pretend Play : 0.236913357400722\nMusic : 0.2030685920577617\nRacing;Action & Adventure : 0.16922382671480143\nPuzzle;Brain Games : 0.16922382671480143\nEntertainment;Music & Video : 0.16922382671480143\nCasual;Brain Games : 0.13537906137184114\nCasual;Action & Adventure : 0.13537906137184114\nArcade;Action & Adventure : 0.12409747292418773\nAction;Action & Adventure : 0.10153429602888085\nEducational;Pretend Play : 0.09025270758122744\nSimulation;Action & Adventure : 0.078971119133574\nParenting;Education : 0.078971119133574\nEntertainment;Brain Games : 0.078971119133574\nBoard;Brain Games : 0.078971119133574\nParenting;Music & Video : 0.06768953068592057\nEducational;Brain Games : 0.06768953068592057\nCasual;Creativity : 0.06768953068592057\nArt & Design;Creativity : 0.06768953068592057\nEducation;Pretend Play : 0.056407942238267145\nRole Playing;Pretend Play : 0.04512635379061372\nEducation;Creativity : 0.04512635379061372\nRole Playing;Action & Adventure : 0.033844765342960284\nPuzzle;Action & Adventure : 0.033844765342960284\nEntertainment;Creativity : 0.033844765342960284\nEntertainment;Action & Adventure : 0.033844765342960284\nEducational;Creativity : 0.033844765342960284\nEducational;Action & Adventure : 0.033844765342960284\nEducation;Music & Video : 0.033844765342960284\nEducation;Brain Games : 0.033844765342960284\nEducation;Action & Adventure : 0.033844765342960284\nAdventure;Action & Adventure : 0.033844765342960284\nVideo Players & Editors;Music & Video : 0.02256317689530686\nSports;Action & Adventure : 0.02256317689530686\nSimulation;Pretend Play : 0.02256317689530686\nPuzzle;Creativity : 0.02256317689530686\nMusic;Music & Video : 0.02256317689530686\nEntertainment;Pretend Play : 0.02256317689530686\nCasual;Education : 0.02256317689530686\nBoard;Action & Adventure : 0.02256317689530686\nVideo Players & Editors;Creativity : 0.01128158844765343\nTrivia;Education : 0.01128158844765343\nTravel & Local;Action & Adventure : 0.01128158844765343\nTools;Education : 0.01128158844765343\nStrategy;Education : 0.01128158844765343\nStrategy;Creativity : 0.01128158844765343\nStrategy;Action & Adventure : 0.01128158844765343\nSimulation;Education : 0.01128158844765343\nRole Playing;Brain Games : 0.01128158844765343\nRacing;Pretend Play : 0.01128158844765343\nPuzzle;Education : 0.01128158844765343\nParenting;Brain Games : 0.01128158844765343\nMusic & Audio;Music & Video : 0.01128158844765343\nLifestyle;Pretend Play : 0.01128158844765343\nLifestyle;Education : 0.01128158844765343\nHealth & Fitness;Education : 0.01128158844765343\nHealth & Fitness;Action & Adventure : 0.01128158844765343\nEntertainment;Education : 0.01128158844765343\nCommunication;Creativity : 0.01128158844765343\nComics;Creativity : 0.01128158844765343\nCasual;Music & Video : 0.01128158844765343\nCard;Action & Adventure : 0.01128158844765343\nBooks & Reference;Education : 0.01128158844765343\nArt & Design;Pretend Play : 0.01128158844765343\nArt & Design;Action & Adventure : 0.01128158844765343\nArcade;Pretend Play : 0.01128158844765343\nAdventure;Education : 0.01128158844765343\n"
    }
   ],
   "source": [
    "display_table(android_final,-4)#genres column"
   ]
  },
  {
   "cell_type": "markdown",
   "metadata": {},
   "source": [
    "It is unclear on what actually differentiates Genres column against Category column, other than Genres seems to have a more granular view. For the purpose of this analysis, I will only work with Category column because I want to focus on the bigger picture.\n",
    "\n",
    "Based on our initial analysis, I found that App Store is dominated by apps designed for fun, while Google Play shows a more balanced landscape of both practical and entertainment apps. I might also avoid developing another game app, as the market seems to be oversaturated by entertainment apps."
   ]
  },
  {
   "cell_type": "markdown",
   "metadata": {},
   "source": [
    "### Apps With Most Users by Genre\n",
    "Next, I'll look into which genres have the most users. For the Google Play data set, I can get this information through the Installs column, whereas, for IOS App Store data set does not include this information. Therefore, I can use the total number of user ratings as proxyfound and this can be found under rating_count_tot column.\n",
    "\n",
    "I need to perform the below steps to conduct this analysis:\n",
    "\n",
    "- Isolate the apps of each genre\n",
    "- Sum up the user ratings for the apps of that genre\n",
    "- Divide the sum by the number of apps belonging to that genre\n",
    "\n",
    "Below, I calculate the average number of user ratings per app genre on the IOS App Store."
   ]
  },
  {
   "cell_type": "code",
   "execution_count": 21,
   "metadata": {},
   "outputs": [
    {
     "output_type": "stream",
     "name": "stdout",
     "text": "('Navigation', 86090.33333333333)\n('Reference', 74942.11111111111)\n('Social Networking', 71548.34905660378)\n('Music', 57326.530303030304)\n('Weather', 52279.892857142855)\n('Book', 39758.5)\n('Food & Drink', 33333.92307692308)\n('Finance', 31467.944444444445)\n('Photo & Video', 28441.54375)\n('Travel', 28243.8)\n('Shopping', 26919.690476190477)\n('Health & Fitness', 23298.015384615384)\n('Sports', 23008.898550724636)\n('Games', 22788.6696905016)\n('News', 21248.023255813954)\n('Productivity', 21028.410714285714)\n('Utilities', 18684.456790123455)\n('Lifestyle', 16485.764705882353)\n('Entertainment', 14029.830708661417)\n('Business', 7491.117647058823)\n('Education', 7003.983050847458)\n('Catalogs', 4004.0)\n('Medical', 612.0)\n"
    }
   ],
   "source": [
    "import operator\n",
    "\n",
    "genres_ios = freq_table(Ios_final, -5)\n",
    "\n",
    "unsorted_genres_ios = {}\n",
    "\n",
    "for genre in genres_ios:\n",
    "    total = 0       # Store sum of ratings for each genre\n",
    "    len_genre = 0   # Store number of apps specific to the genre\n",
    "    for app in Ios_final:\n",
    "        genre_app = app[-5]\n",
    "        if genre_app == genre:            \n",
    "            n_ratings = float(app[5])\n",
    "            total += n_ratings\n",
    "            len_genre += 1\n",
    "    avg_n_ratings = total / len_genre   # Compute the average number of user rating\n",
    "    unsorted_genres_ios[genre] = avg_n_ratings # Store the value to an unsorted dictionary\n",
    "\n",
    "# Sort the dictionary values into a list of tuples and assign it to a new variable\n",
    "sorted_genres_ios = sorted(unsorted_genres_ios.items(), key=operator.itemgetter(1), reverse=True)\n",
    "\n",
    "for item in sorted_genres_ios:\n",
    "    print(item)"
   ]
  },
  {
   "cell_type": "markdown",
   "metadata": {},
   "source": [
    "It seems that the Navigation and Reference are the most popular genre on IOS App Store. Let's explore each of this genre to make sure that their average number of user rating value is not skewed or inflated by one or two major apps.\n",
    "\n"
   ]
  },
  {
   "cell_type": "code",
   "execution_count": 22,
   "metadata": {},
   "outputs": [
    {
     "output_type": "stream",
     "name": "stdout",
     "text": "Waze - GPS Navigation, Maps & Real-time Traffic : 345046\nGoogle Maps - Navigation & Transit : 154911\nGeocaching® : 12811\nCoPilot GPS – Car Navigation & Offline Maps : 3582\nImmobilienScout24: Real Estate Search in Germany : 187\nRailway Route Search : 5\n"
    }
   ],
   "source": [
    "# Print the total number of user ratings for each app under Navigation genre\n",
    "for app in Ios_final:\n",
    "    if app[-5] == 'Navigation':\n",
    "        print(app[1], ':', app[5])"
   ]
  },
  {
   "cell_type": "code",
   "execution_count": 23,
   "metadata": {},
   "outputs": [
    {
     "output_type": "stream",
     "name": "stdout",
     "text": "Bible : 985920\nDictionary.com Dictionary & Thesaurus : 200047\nDictionary.com Dictionary & Thesaurus for iPad : 54175\nGoogle Translate : 26786\nMuslim Pro: Ramadan 2017 Prayer Times, Azan, Quran : 18418\nNew Furniture Mods - Pocket Wiki & Game Tools for Minecraft PC Edition : 17588\nMerriam-Webster Dictionary : 16849\nNight Sky : 12122\nCity Maps for Minecraft PE - The Best Maps for Minecraft Pocket Edition (MCPE) : 8535\nLUCKY BLOCK MOD ™ for Minecraft PC Edition - The Best Pocket Wiki & Mods Installer Tools : 4693\nGUNS MODS for Minecraft PC Edition - Mods Tools : 1497\nGuides for Pokémon GO - Pokemon GO News and Cheats : 826\nWWDC : 762\nHorror Maps for Minecraft PE - Download The Scariest Maps for Minecraft Pocket Edition (MCPE) Free : 718\nVPN Express : 14\nReal Bike Traffic Rider Virtual Reality Glasses : 8\n教えて!goo : 0\nJishokun-Japanese English Dictionary & Translator : 0\n"
    }
   ],
   "source": [
    "# Print the total number of user ratings for each app under Reference genre\n",
    "for app in Ios_final:\n",
    "    if app[-5] == 'Reference':\n",
    "        print(app[1], ':', app[5])"
   ]
  },
  {
   "cell_type": "markdown",
   "metadata": {},
   "source": [
    "It turns out that these genres are actually dominated by major apps like Waze, Bible, and Dictionary.com, which has more than 100,000 user ratings. To prevent our numbers from being skewed by major apps, let's adjust our average number calculation to only include apps with less than 100,000 number of ratings:\n",
    "\n"
   ]
  },
  {
   "cell_type": "code",
   "execution_count": 24,
   "metadata": {},
   "outputs": [
    {
     "output_type": "stream",
     "name": "stdout",
     "text": "('Book', 16605.75)\n('Social Networking', 13900.021052631579)\n('Shopping', 12601.987012987012)\n('Productivity', 12377.692307692309)\n('Finance', 10506.354838709678)\n('Sports', 10314.09375)\n('Reference', 10186.9375)\n('Photo & Video', 9317.454545454546)\n('Utilities', 8676.57142857143)\n('Travel', 8490.081081081082)\n('Music', 8395.543859649122)\n('Entertainment', 8260.150406504064)\n('News', 7850.45)\n('Business', 7491.117647058823)\n('Weather', 7454.772727272727)\n('Games', 6854.495184135977)\n('Health & Fitness', 6417.3442622950815)\n('Lifestyle', 5297.666666666667)\n('Education', 4660.163793103448)\n('Navigation', 4146.25)\n('Catalogs', 4004.0)\n('Food & Drink', 3678.0454545454545)\n('Medical', 612.0)\n"
    }
   ],
   "source": [
    "\n",
    "unsorted_genres_ios = {}\n",
    "\n",
    "for genre in genres_ios:\n",
    "    total = 0          # Store sum of ratings for each genre\n",
    "    len_genre = 0      # Store number of apps specific to the genre\n",
    "    for app in Ios_final:\n",
    "        genre_app = app[-5]\n",
    "        ratings = float(app[5])\n",
    "        if genre_app == genre and ratings < 100000:  # Excludes apps with more than 100,000 user ratings          \n",
    "            n_ratings = float(app[5])\n",
    "            total += n_ratings\n",
    "            len_genre += 1\n",
    "    avg_n_ratings = total / len_genre           # Compute the average number of user rating\n",
    "    unsorted_genres_ios[genre] = avg_n_ratings  # Store the value to an unsorted dictionary\n",
    "\n",
    "# Sort the dictionary values into a list of tuples and assign it to a new variable\n",
    "sorted_genres_ios = sorted(unsorted_genres_ios.items(), key=operator.itemgetter(1), reverse=True)\n",
    "\n",
    "for item in sorted_genres_ios:\n",
    "    print(item)"
   ]
  },
  {
   "cell_type": "markdown",
   "metadata": {},
   "source": [
    "Book genre now appears to have the highest average number of user rating after I exclude any major apps, followed by Social Networking and Shopping apps. Let's look into what apps are actually available under that genre.\n",
    "\n"
   ]
  },
  {
   "cell_type": "code",
   "execution_count": 25,
   "metadata": {},
   "outputs": [
    {
     "output_type": "stream",
     "name": "stdout",
     "text": "Kindle – Read eBooks, Magazines & Textbooks : 252076\nAudible – audio books, original series & podcasts : 105274\nColor Therapy Adult Coloring Book for Adults : 84062\nOverDrive – Library eBooks and Audiobooks : 65450\nHOOKED - Chat Stories : 47829\nBookShout: Read eBooks & Track Your Reading Goals : 879\nDr. Seuss Treasury — 50 best kids books : 451\nGreen Riding Hood : 392\nWeirdwood Manor : 197\nMangaZERO - comic reader : 9\nikouhoushi : 0\nMangaTiara - love comic reader : 0\n謎解き : 0\n謎解き2016 : 0\n"
    }
   ],
   "source": [
    "# Print the total number of user ratings for each app under Book genre\n",
    "for app in Ios_final:\n",
    "    if app[-5] == 'Book':\n",
    "        print(app[1], ':', app[5])"
   ]
  },
  {
   "cell_type": "markdown",
   "metadata": {},
   "source": [
    "The most popular Book apps tends to be library-type apps, where a person can access multiple books in a single app. Coloring books are the only other non-Library app that have a high number of user rating. However, I might want to avoid creating another entertainment app because based on our first analysis, it appears that the market is already oversaturated.\n",
    "\n",
    "Next, I'll analyze the Google Play market."
   ]
  },
  {
   "cell_type": "code",
   "execution_count": 26,
   "metadata": {},
   "outputs": [
    {
     "output_type": "stream",
     "name": "stdout",
     "text": "1,000,000+ : 15.726534296028879\n100,000+ : 11.552346570397113\n10,000,000+ : 10.548285198555957\n10,000+ : 10.198555956678701\n1,000+ : 8.393501805054152\n100+ : 6.915613718411552\n5,000,000+ : 6.825361010830325\n500,000+ : 5.561823104693141\n50,000+ : 4.7721119133574\n5,000+ : 4.512635379061372\n10+ : 3.5424187725631766\n500+ : 3.2490974729241873\n50,000,000+ : 2.3014440433213\n100,000,000+ : 2.1322202166064983\n50+ : 1.917870036101083\n5+ : 0.78971119133574\n1+ : 0.5076714801444043\n500,000,000+ : 0.2707581227436823\n1,000,000,000+ : 0.22563176895306858\n0+ : 0.04512635379061372\n0 : 0.01128158844765343\n"
    }
   ],
   "source": [
    "display_table(android_final, 5)\n"
   ]
  },
  {
   "cell_type": "markdown",
   "metadata": {},
   "source": [
    "Unlike the IOS App Store's rating_count_tot column, it seems like Google Play's Installs column is not as precise because the installs number are grouped under specific brackets. For example, I do not know if an app with 100,000+ installs has 100,500 installs or 350,000 installs. For the purposes of our current project I can leave the data as is, since I do not need that level of precision.\n",
    "\n",
    "To perform computation on these installs number I will need to turn them into a float. Therefore, I will remove the commas and the plus signs, otherwise the calculation will fail and results in an error."
   ]
  },
  {
   "cell_type": "code",
   "execution_count": 27,
   "metadata": {},
   "outputs": [
    {
     "output_type": "stream",
     "name": "stdout",
     "text": "('COMMUNICATION', 38456119.167247385)\n('VIDEO_PLAYERS', 24727872.452830188)\n('SOCIAL', 23253652.127118643)\n('PHOTOGRAPHY', 17840110.40229885)\n('PRODUCTIVITY', 16787331.344927534)\n('GAME', 15588015.603248259)\n('TRAVEL_AND_LOCAL', 13984077.710144928)\n('ENTERTAINMENT', 11640705.88235294)\n('TOOLS', 10801391.298666667)\n('NEWS_AND_MAGAZINES', 9549178.467741935)\n('BOOKS_AND_REFERENCE', 8767811.894736841)\n('SHOPPING', 7036877.311557789)\n('PERSONALIZATION', 5201482.6122448975)\n('WEATHER', 5074486.197183099)\n('HEALTH_AND_FITNESS', 4188821.9853479853)\n('MAPS_AND_NAVIGATION', 4056941.7741935486)\n('FAMILY', 3695641.8198090694)\n('SPORTS', 3638640.1428571427)\n('ART_AND_DESIGN', 1986335.0877192982)\n('FOOD_AND_DRINK', 1924897.7363636363)\n('EDUCATION', 1833495.145631068)\n('BUSINESS', 1712290.1474201474)\n('LIFESTYLE', 1437816.2687861272)\n('FINANCE', 1387692.475609756)\n('HOUSE_AND_HOME', 1331540.5616438356)\n('DATING', 854028.8303030303)\n('COMICS', 817657.2727272727)\n('AUTO_AND_VEHICLES', 647317.8170731707)\n('LIBRARIES_AND_DEMO', 638503.734939759)\n('PARENTING', 542603.6206896552)\n('BEAUTY', 513151.88679245283)\n('EVENTS', 253542.22222222222)\n('MEDICAL', 120550.61980830671)\n"
    }
   ],
   "source": [
    "categories_android = freq_table(android_final, 1)\n",
    "\n",
    "unsorted_categories_android = {}\n",
    "\n",
    "for category in categories_android:\n",
    "    total = 0                 # Store sum of installs for each genre\n",
    "    len_category = 0          # Store number of apps specific to the genre\n",
    "    for app in android_final:\n",
    "        category_app = app[1]\n",
    "        if category_app == category:\n",
    "            n_installs = app[5]\n",
    "            n_installs = n_installs.replace(',', '')  # Remove commas\n",
    "            n_installs = n_installs.replace('+','')   # Remove plus signs\n",
    "            total += float(n_installs)\n",
    "            len_category += 1\n",
    "    avg_n_installs = total / len_category                  # Compute the average number of user rating\n",
    "    unsorted_categories_android[category] = avg_n_installs # Store the value to an unsorted dictionary\n",
    "\n",
    "# Sort the dictionary values into a list of tuples and assign it to a new variable\n",
    "sorted_categories_android = sorted(unsorted_categories_android.items(), key=operator.itemgetter(1), reverse=True)\n",
    "\n",
    "for item in sorted_categories_android:\n",
    "    print(item)"
   ]
  },
  {
   "cell_type": "markdown",
   "metadata": {},
   "source": [
    "Communication apps appears to be the most popular with 38,456,119 number of installs. However, this number might be heavily skewed by a few major apps with over one billion or over 500 million installs. I want to make sure that I am not picking out a genre that might seem more popular than it really is. Furthermore, I also do not want to develop an app under a genre that is already dominated by a few major players because it will be difficult to compete against them.\n",
    "\n",
    "Let's modify the analysis by excluding apps with over 100 million installs."
   ]
  },
  {
   "cell_type": "code",
   "execution_count": 28,
   "metadata": {},
   "outputs": [
    {
     "output_type": "stream",
     "name": "stdout",
     "text": "('PHOTOGRAPHY', 7670532.29338843)\n('GAME', 6272564.694894147)\n('ENTERTAINMENT', 6118250.0)\n('VIDEO_PLAYERS', 5544878.133333334)\n('WEATHER', 5074486.197183099)\n('SHOPPING', 4640920.541237113)\n('COMMUNICATION', 3603485.3884615386)\n('PRODUCTIVITY', 3379657.318885449)\n('TOOLS', 3191461.128987517)\n('SOCIAL', 3084582.5201793723)\n('SPORTS', 2994082.551839465)\n('TRAVEL_AND_LOCAL', 2944079.6336633665)\n('PERSONALIZATION', 2549775.832167832)\n('MAPS_AND_NAVIGATION', 2484104.7540983604)\n('FAMILY', 2342897.527075812)\n('HEALTH_AND_FITNESS', 2005713.6605166052)\n('ART_AND_DESIGN', 1986335.0877192982)\n('FOOD_AND_DRINK', 1924897.7363636363)\n('EDUCATION', 1833495.145631068)\n('NEWS_AND_MAGAZINES', 1502841.8775510204)\n('BOOKS_AND_REFERENCE', 1437212.2162162163)\n('HOUSE_AND_HOME', 1331540.5616438356)\n('BUSINESS', 1226918.7407407407)\n('LIFESTYLE', 1152128.779710145)\n('FINANCE', 1086125.7859327218)\n('DATING', 854028.8303030303)\n('COMICS', 817657.2727272727)\n('AUTO_AND_VEHICLES', 647317.8170731707)\n('LIBRARIES_AND_DEMO', 638503.734939759)\n('PARENTING', 542603.6206896552)\n('BEAUTY', 513151.88679245283)\n('EVENTS', 253542.22222222222)\n('MEDICAL', 120550.61980830671)\n"
    }
   ],
   "source": [
    "categories_android = freq_table(android_final, 1)\n",
    "\n",
    "unsorted_categories_android = {}\n",
    "\n",
    "for category in categories_android:\n",
    "    total = 0                   # Store sum of installs for each genre\n",
    "    len_category = 0            # Store number of apps specific to the genre\n",
    "    for app in android_final:\n",
    "        category_app = app[1]\n",
    "        if category_app == category:\n",
    "            n_installs = app[5]\n",
    "            n_installs = n_installs.replace(',', '')   # Remove commas\n",
    "            n_installs = n_installs.replace('+','')    # Remove plus signs\n",
    "            n_installs = float(n_installs)\n",
    "            if n_installs < 100000000:                 # Exclude apps with over 100 million installs\n",
    "                total += float(n_installs)\n",
    "                len_category += 1\n",
    "    avg_n_installs = total / len_category                   # Compute the average number of installs\n",
    "    unsorted_categories_android[category] = avg_n_installs  # Store the value to an unsorted dictionary\n",
    "\n",
    "# Sort the dictionary values into a list of tuples and assign it to a new variable\n",
    "sorted_categories_android = sorted(unsorted_categories_android.items(), key=operator.itemgetter(1), reverse=True)\n",
    "\n",
    "for item in sorted_categories_android:\n",
    "    print(item)"
   ]
  },
  {
   "cell_type": "markdown",
   "metadata": {},
   "source": [
    "After excluding apps with over 100 million installs, in see that Photography category now rises to be the most popular genere. Let's explore this category in more depth. On this analysis, I will also only include apps with less than 100 million installs.\n",
    "\n"
   ]
  },
  {
   "cell_type": "code",
   "execution_count": 29,
   "metadata": {},
   "outputs": [
    {
     "output_type": "stream",
     "name": "stdout",
     "text": "TouchNote: Cards & Gifts : 1,000,000+\nFreePrints – Free Photos Delivered : 1,000,000+\nGroovebook Photo Books & Gifts : 500,000+\nMoony Lab - Print Photos, Books & Magnets ™ : 50,000+\nLALALAB prints your photos, photobooks and magnets : 1,000,000+\nSnapfish : 1,000,000+\nMotorola Camera : 50,000,000+\nHD Camera - Best Cam with filters & panorama : 5,000,000+\nLightX Photo Editor & Photo Effects : 10,000,000+\nSweet Snap - live filter, Selfie photo edit : 10,000,000+\nHD Camera - Quick Snap Photo & Video : 1,000,000+\nB612 - Beauty & Filter Camera : 100,000,000+\nWaterfall Photo Frames : 1,000,000+\nPhoto frame : 100,000+\nHuji Cam : 5,000,000+\nUnicorn Photo : 1,000,000+\nHD Camera : 5,000,000+\nMakeup Editor -Beauty Photo Editor & Selfie Camera : 1,000,000+\nMakeup Photo Editor: Makeup Camera & Makeup Editor : 1,000,000+\nMoto Photo Editor : 5,000,000+\nInstaBeauty -Makeup Selfie Cam : 50,000,000+\nGarden Photo Frames - Garden Photo Editor : 500,000+\nPhoto Frame : 10,000,000+\nSelfie Camera - Photo Editor & Filter & Sticker : 50,000,000+\nSweet Snap Lite - live filter, Selfie photo editor : 500,000+\nSelfie Camera: Beauty Camera, Photo Editor,Collage : 1,000,000+\nNight Photo Frame : 1,000,000+\nYouCam Makeup - Magic Selfie Makeovers : 100,000,000+\nSelfie Photo Editor : 1,000,000+\nASUS Gallery : 50,000,000+\nKids Photo Frames : 1,000,000+\nPencil Photo Sketch-Sketching Drawing Photo Editor : 1,000,000+\nPretty Makeup, Beauty Photo Editor & Snappy Camera : 5,000,000+\nPhoto Collage - Layout Editor : 10,000,000+\nDSLR Camera Hd Ultra Professional : 1,000,000+\nSnap Cat Face Camera : 1,000,000+\nSilent Camera [High Quality] : 5,000,000+\nSweet Camera - Selfie Filters, Beauty Camera : 10,000,000+\nPhoto Frames : 10,000,000+\nSweet Selfie - selfie camera, beauty cam, photo edit : 100,000,000+\nCandy selfie - photo editor, live filter camera : 10,000,000+\nOpen Camera : 10,000,000+\nBeauty Makeup – Photo Makeover : 1,000,000+\nBlur Image Background Editor (Blur Photo Editor) : 5,000,000+\nMuzy - Share photos & collages : 5,000,000+\nQuickPic - Photo Gallery with Google Drive Support : 10,000,000+\nFlickr : 10,000,000+\nCamera for Android : 10,000,000+\nPhoto Mixer : 10,000,000+\nWondershare PowerCam : 10,000,000+\nlove : 1,000,000+\nKVAD Camera +: Selfie, Photo Filter, Grids : 1,000,000+\nCamera51 - a smarter camera : 1,000,000+\nInstaCam - Camera for Selfie : 1,000,000+\nSweet Camera : 5,000,000+\nRetroSelfie - Selfie Editor : 10,000,000+\nMega Photo : 1,000,000+\nBlur Image Background : 10,000,000+\nMIX by Camera360 : 5,000,000+\nGoogle Photos : 1,000,000,000+\nSuperPhoto - Effects & Filters : 5,000,000+\nCamera FV-5 Lite : 10,000,000+\nHD Camera Ultra : 10,000,000+\nCameringo Lite. Filters Camera : 10,000,000+\nCamera ZOOM FX - FREE : 5,000,000+\nHD Camera Pro for Android : 1,000,000+\nGoPro (formerly Capture) : 10,000,000+\nBeauty Makeup Snappy Collage Photo Editor - Lidow : 10,000,000+\nSamsung SMART CAMERA App : 1,000,000+\nSquare InPic - Photo Editor & Collage Maker : 50,000,000+\nHigh-Speed Camera (GIF,Burst) : 5,000,000+\nCamera MX - Free Photo & Video Camera : 10,000,000+\nEyeEm - Camera & Photo Filter : 10,000,000+\nRetrica : 100,000,000+\nVSCO : 50,000,000+\nPhotoWonder: Pro Beauty Photo Editor Collage Maker : 50,000,000+\nPhoto Effects Pro : 50,000,000+\nPhoto Editor Selfie Camera Filter & Mirror Image : 50,000,000+\nNo Crop & Square for Instagram : 10,000,000+\nPicture Grid Builder : 5,000,000+\nHD Camera for Android : 10,000,000+\nPhoto Studio : 10,000,000+\nPhoto Editor Pro : 100,000,000+\nPhoto Editor- : 5,000,000+\nMirror Photo:Editor Collage (HD) : 10,000,000+\nPic Stitch - #1 Collage Maker : 1,000,000+\nPhotoDirector Photo Editor App : 10,000,000+\nPic Collage - Photo Editor : 50,000,000+\nPhoto Editor by Aviary : 50,000,000+\nVideo Editor Music,Cut,No Crop : 50,000,000+\nPixlr – Free Photo Editor : 50,000,000+\nPhoto Editor : 10,000,000+\nPhoto Collage Maker : 10,000,000+\nAdobe Photoshop Express:Photo Editor Collage Maker : 50,000,000+\nBeautyPlus - Easy Photo Editor & Selfie Camera : 100,000,000+\nPicsArt Photo Studio: Collage Maker & Pic Editor : 100,000,000+\nPhoto Collage Editor : 100,000,000+\nColor Touch Effects : 10,000,000+\nInstaSize Photo Filters & Collage Editor : 50,000,000+\nZ Camera - Photo Editor, Beauty Selfie, Collage : 100,000,000+\nPhotoGrid: Video & Pic Collage Maker, Photo Editor : 100,000,000+\nCandy Camera - selfie, beauty camera, photo editor : 100,000,000+\nYouCam Perfect - Selfie Photo Editor : 100,000,000+\nPixgram- video photo slideshow : 5,000,000+\nFotor Photo Editor - Photo Collage & Photo Effects : 10,000,000+\nSnapseed : 50,000,000+\nCamera360: Selfie Photo Editor with Funny Sticker : 100,000,000+\nFont Studio- Photo Texts Image : 10,000,000+\nAdd Text To Photo : 1,000,000+\nPhonto - Text on Photos : 10,000,000+\nCollage&Add Stickers papelook : 5,000,000+\nShutterfly: Free Prints, Photo Books, Cards, Gifts : 5,000,000+\nPhoto Collage - InstaMag : 10,000,000+\nMeitu – Beauty Cam, Easy Photo Editor : 10,000,000+\nBestie - Camera360 Selfie : 10,000,000+\nB Tiff Viewer : 100,000+\nF-Stop Gallery : 1,000,000+\nHow Do I Look : 500,000+\nKeepsafe Photo Vault: Hide Private Photos & Videos : 50,000,000+\nMakeupPlus - Your Own Virtual Makeup Artist : 50,000,000+\nPixlr-o-matic : 10,000,000+\nPixelLab - Text on pictures : 10,000,000+\nLeica Q : 10,000+\nS Photo Editor - Collage Maker , Photo Collage : 100,000,000+\nU Camera : Phone 6s OS 9 style: 500,000+\nV.360° Camera : 100,000+\nProfile w/o crop for Telegram : 10,000+\nZ Camera : 10,000+\nSix Pack Abs Photo Editor : 1,000,000+\nBrica BPRO5 AE : 500,000+\nAfterFocus : 10,000,000+\nDSLR camera - Auto Focus and Blur Professional : 10,000+\nAR effect : 100,000,000+\nASUS PixelMaster Camera : 10,000,000+\neasyFocus : 500,000+\nBlur Image - DSLR focus effect : 5,000,000+\nCamera Pro : 1,000,000+\nHD Camera - silent shutter : 1,000,000+\nA Better Camera : 5,000,000+\nAuto Dslr Photo Effect : Auto Focus Effect : 1,000+\nPhotoScan by Google Photos : 10,000,000+\nAfterlight : 1,000,000+\nBlurfoto : Auto blur photo background & DSLR focus : 500,000+\nBlur : 1,000,000+\nPicai - Smart AI Camera : 100,000+\nAdobe Illustrator Draw : 5,000,000+\nFaceApp : 10,000,000+\nAI Image Recognizer (beta) : 500+\nAJ Cam : 100+\nSelfie With Champion AJ Style : 500+\nA.J. Styles HD Wallpapers 2018 : 100+\nScoompa Video - Slideshow Maker and Video Editor : 10,000,000+\nAEE AP : 1,000+\nSNOW - AR Camera : 50,000,000+\nAdd Watermark Free : 1,000,000+\ncamera zoom moon : 500,000+\nAZ Camera - Manual Pro Cam : 100,000+\nBC Camera : 500+\nPhoto Editor by BeFunky : 10,000,000+\nBe Fabulous PHOTO BOOTH : 10,000+\nAdobe Photoshop Fix : 5,000,000+\nPhoto BG Changer : 1,000+\nBG Editor : 5+\nPhotoLayers〜Superimpose,Eraser : 10,000,000+\nBlender BG - Photo Blend With Background : 100+\nAuto Background Changer : 1,000,000+\nChange photo background : 5,000,000+\nBackground Eraser : 10,000,000+\nBackground Changer & Eraser : 500,000+\nCut Out : Background Eraser and background changer : 1,000,000+\nUltimate Background Eraser : 1,000,000+\nDSLR Photography Training apps : 100,000+\nPhoto Editor - BPhoto : 1,000+\n24 megapixel hd camera : 100,000+\nBK Photography : 1,000+\nBL 1-Click Camera - Free : 10,000+\nBL Portfolio : 100+\nBQ Camera : 1,000,000+\nBT Camera : 500,000+\nBlitzWolf Shutter - BW Shutter : 50,000+\nBlack & White Camera - Lovely BW : 100,000+\nAnalog BW - Camera filter effect foto film retouch : 100+\nHypocam : 1,000,000+\nB&W Photo Filter Editor : 50,000+\nCB VIDEO VISION : 100+\nCB Hair Png - New Hair Png For CB Editing : 500+\nCB Edits PNG & CB Backgrounds : 5,000+\nCG Prints : 100+\nGold Teeth Photo Editor : 100,000+\nNight Camera Blur Effect : 10,000+\nCamera V7 24 Megapixel : 100,000+\nLeica CL : 1,000+\nCanon CameraWindow : 1,000,000+\nCymera Camera- Photo Editor, Filter,Collage,Layout : 100,000,000+\nCamera360 Lite - Selfie Camera : 10,000,000+\nWallpaper.cz : 100+\nFace Filter, Selfie Editor - Sweet Camera : 10,000,000+\nVisage Lab – face retouch : 5,000,000+\nLC-DB-LITE : 100+\nDC-014 : 500+\nBokeh (Background defocus) : 10,000,000+\nLove Collage - Photo Editor : 10,000,000+\nLINE Camera - Photo editor : 100,000,000+\nDF Night Selfies : 10,000+\nMy Photo Keyboard : 10,000,000+\nStory Saver for Instagram : 5,000,000+\nBoomerang from Instagram : 50,000,000+\nInsave-Download for Instagram : 1,000,000+\nDP Editor : 5,000+\nDP Maker : 100,000+\nSquare DP For Whatsapp : 10,000+\nDP Creator for WhatsApp : 100,000+\nDp For FB : 1,000+\nMagical Insta DP : 1,000+\nAll Types DP & Status Maker : 1,000+\nDP Photo Editor : 10,000+\nFifa World Cup 2018: Photo Frame Editor & DP Maker : 100,000+\nInsta Square Profile DP : 5,000+\nDP Status 2017 : 50,000+\nLightMeter Free : 1,000,000+\nDS-L4 Viewer : 1,000+\nDU GIF Maker: GIF Maker, Video to GIF & GIF Editor : 500,000+\nDU Collage Maker - Photo Collage & Grid & Layout : 100,000+\nLive DV : 1,000+\nDV-4036 by Somikon : 1,000+\nTouch DV : 50+\nXDV : 1,000,000+\nDV Lottery Photo Tool : 50,000+\nDV KING 4K : 100+\nWifi Action Camera : 50,000+\n4K Ultra Camera : 100,000+\nDV KING : 100+\nDENVER ACTION CAM 3 : 10,000+\nSportLook : 100,000+\nDisplaying You VR : 50+\ni am EB : 10+\nRetro Camera : 10,000,000+\nFootej Camera : 1,000,000+\nVideo Maker with Photo and Music : 1,000,000+\nPhogy, 3D Camera :1,000,000+\nPhoto Lab Picture Editor: face effects, art frames : 50,000,000+\nMomentCam Cartoons & Stickers : 50,000,000+\nA+ Gallery - Photos & Videos : 10,000,000+\nLight Meter - EV : 1,000+\nFilterGrid - Cam&Photo Editor : 1,000,000+\nez Share Android app : 100,000+\nEz iCam : 1,000,000+\nFacejjang : 10,000,000+\nCover Camera for FB : 100,000+\nFB Photographie : 1,000+\nFD Fotografia : 100+\nGhost In Photo : 5,000,000+\nFH WiFiCam : 10,000+\nPIP Selfie Camera Photo Editor : 10,000,000+\nFL Drone 2 : 5,000+\nFN Cam : 10,000+\nPIP-Camera FN Photo Effect : 1,000+\nPhoto Editor Collage Maker Pro : 100,000,000+\nFree Slideshow Maker & Video Editor : 10,000,000+\nThumbnail Maker : 1,000,000+\nPhotoFunia : 10,000,000+\n"
    }
   ],
   "source": [
    "for app in android_final:\n",
    "    if app[1] == 'PHOTOGRAPHY' and (app[5] != '1,000,000,000+'\n",
    "                                            or app[5] != '500,000,000+'\n",
    "                                            or app[5] != '100,000,000+'):\n",
    "        print(app[0], ':', app[5])"
   ]
  },
  {
   "cell_type": "markdown",
   "metadata": {},
   "source": [
    "It appears that the photography genre is oversaturated with apps that are related to video editing or selfies. So I can eliminate those app ideas. If I want to combine the most popular genres on both the IOS App Store and Google Play market, I can explore the idea of creating a Book app that relates to Photography. For example, I can create a Book app based on various photography guidebooks. The app can contain photography tips, reference guide from experts, and even discussion boards on various photography topics."
   ]
  },
  {
   "cell_type": "markdown",
   "metadata": {},
   "source": [
    "### Popular Rated Apps by Genre\n",
    "\n",
    "To further consolidate our analysis, I can also look into the popular rated apps by Genre. I can do this by looking into Rating column on Google Play dataset and user_rating column on the App Store dataset. By performing this analysis, I can assume that if people are willing to provide positive reviews for a certain genre, there is also a likelihood for them to promote these apps to their friends. This data will then signify the potential growth rate for our app, or even opportunity for monetization in the future.\n",
    "\n",
    "First, I will look into the popular rated app for IOS App Store dataset. Let's make sure that the user_rating column has the appropriate data before I perform the analysis."
   ]
  },
  {
   "cell_type": "code",
   "execution_count": 30,
   "metadata": {},
   "outputs": [
    {
     "output_type": "stream",
     "name": "stdout",
     "text": "Kindle – Read eBooks, Magazines & Textbooks : 3.5\nAudible – audio books, original series & podcasts : 4.5\nColor Therapy Adult Coloring Book for Adults : 5.0\nOverDrive – Library eBooks and Audiobooks : 4.0\nHOOKED - Chat Stories : 4.5\nBookShout: Read eBooks & Track Your Reading Goals : 4.0\nDr. Seuss Treasury — 50 best kids books : 4.5\nGreen Riding Hood : 4.0\nWeirdwood Manor : 4.5\nMangaZERO - comic reader : 4.5\nikouhoushi : 0.0\nMangaTiara - love comic reader : 0.0\n謎解き : 0.0\n謎解き2016 : 0.0\n"
    }
   ],
   "source": [
    "for app in Ios_final:\n",
    "    if app[-5] == 'Book':\n",
    "        print(app[1],':',app[7])"
   ]
  },
  {
   "cell_type": "markdown",
   "metadata": {},
   "source": [
    "It seems that there are some apps with 0 rating. This probably means that no one has given them a rating yet. Therefore, I will remove them from our analysis to prevent them from skewing our data.\n",
    "\n"
   ]
  },
  {
   "cell_type": "code",
   "execution_count": 31,
   "metadata": {},
   "outputs": [
    {
     "output_type": "stream",
     "name": "stdout",
     "text": "('Medical', 4.5)\n('Book', 4.375)\n('Productivity', 4.255102040816326)\n('Games', 4.193901716992303)\n('Health & Fitness', 4.154545454545454)\n('Photo & Video', 4.144827586206897)\n('Catalogs', 4.125)\n('Shopping', 4.114864864864865)\n('Reference', 4.107142857142857)\n('Business', 3.9705882352941178)\n('Music', 3.9642857142857144)\n('Weather', 3.8947368421052633)\n('Education', 3.86697247706422)\n('Utilities', 3.857142857142857)\n('Travel', 3.75)\n('Social Networking', 3.7444444444444445)\n('Entertainment', 3.660337552742616)\n('News', 3.5694444444444446)\n('Lifestyle', 3.5217391304347827)\n('Navigation', 3.5)\n('Food & Drink', 3.5)\n('Finance', 3.4655172413793105)\n('Sports', 3.1475409836065573)\n"
    }
   ],
   "source": [
    "rating_ios = freq_table(Ios_final, -5)\n",
    "\n",
    "unsorted_ratings_ios = {}\n",
    "\n",
    "for genre in rating_ios:\n",
    "    total = 0             # Store sum of installs for each genre\n",
    "    len_rating = 0        # Store number of apps specific to the genre\n",
    "    for app in Ios_final:\n",
    "        genre_app = app[-5]\n",
    "        ratings = float(app[5])\n",
    "        n_ratings = float(app[7])\n",
    "        if genre == genre_app and ratings < 100000 and n_ratings != 0: # Exclude apps with over 100,000 number of ratings and has 0 rating\n",
    "            total += n_ratings\n",
    "            len_rating += 1\n",
    "    avg_n_ratings = total / len_rating           # Compute the average rating value\n",
    "    unsorted_ratings_ios[genre] = avg_n_ratings  # Store the value to an unsorted dictionary\n",
    "\n",
    "# Sort the dictionary values into a list of tuples and assign it to a new variable\n",
    "sorted_ratings_ios = sorted(unsorted_ratings_ios.items(), key=operator.itemgetter(1), reverse=True)\n",
    "\n",
    "for item in sorted_ratings_ios:\n",
    "    print(item)"
   ]
  },
  {
   "cell_type": "markdown",
   "metadata": {},
   "source": [
    "It appears that the genre with the highest average rating is Medical (4.5), followed by Books genre at 4.375. This further reinforce the idea to develop an app within the Book genre.\n",
    "\n",
    "Next, I will look into the Google Play data to see if this sentiment applies on the Android market as well. Before I perform our analysis, let me make sure that the Rating column has the appropriate data."
   ]
  },
  {
   "cell_type": "code",
   "execution_count": 32,
   "metadata": {},
   "outputs": [
    {
     "output_type": "stream",
     "name": "stdout",
     "text": "E-Book Read - Read Book for free : 4.5\nDownload free book with green book : 4.6\nWikipedia : 4.4\nCool Reader : 4.5\nFree Panda Radio Music : 4.5\nBook store : 4.4\nFBReader: Favorite Book Reader : 4.5\nEnglish Grammar Complete Handbook : 4.6\nFree Books - Spirit Fanfiction and Stories : 4.8\nGoogle Play Books : 3.9\nAlReader -any text book reader : 4.6\nOffline English Dictionary : 4.2\nOffline: English to Tagalog Dictionary : 4.7\nFamilySearch Tree : 4.3\nCloud of Books : 3.3\nRecipes of Prophetic Medicine for free : 4.6\nReadEra – free ebook reader : 4.8\nAnonymous caller detection : NaN\nEbook Reader : 4.1\nLitnet - E-books : 4.6\nRead books online : 4.1\nEnglish to Urdu Dictionary : 4.6\neBoox: book reader fb2 epub zip : 4.7\nEnglish Persian Dictionary : 4.5\nFlybook : 3.9\nAll Maths Formulas : 4.4\nAncestry : 4.3\nHTC Help : 4.2\nEnglish translation from Bengali : 4.5\nPdf Book Download - Read Pdf Book : 4.4\nFree Book Reader : 3.4\neBoox new: Reader for fb2 epub zip books : 4.9\nOnly 30 days in English, the guideline is guaranteed : 4.6\nMoon+ Reader : 4.4\nSH-02J Owner's Manual (Android 8.0) : NaN\nEnglish-Myanmar Dictionary : 4.4\nGolden Dictionary (EN-AR) : 4.4\nAll Language Translator Free : 4.4\nAzpen eReader : 3.5\nURBANO V 02 instruction manual : NaN\nBible : 4.7\nC Programs and Reference : 4.2\nC Offline Tutorial : 4.7\nC Programs Handbook : 4.0\nAmazon Kindle : 4.2\nAab e Hayat Full Novel : 4.3\nAldiko Book Reader : 4.2\nGoogle I/O 2018 : 4.3\nR Language Reference Guide : 3.9\nLearn R Programming Full : NaN\nR Programing Offline Tutorial : 5.0\nGuide for R Programming : NaN\nLearn R Programming : NaN\nR Quick Reference Big Data : NaN\nV Made : 4.3\nWattpad 📖 Free Books : 4.6\nDictionary - WordWeb : 4.6\nGuide (for X-MEN) : 4.6\nAC Air condition Troubleshoot,Repair,Maintenance : 4.2\nAE Bulletins : 4.5\nAe Allah na Dai (Rasa) : 4.7\n50000 Free eBooks & Free AudioBooks : 4.1\nAg PhD Field Guide : 4.1\nAg PhD Deficiencies : 3.9\nAg PhD Planting Population Calculator : NaN\nAg PhD Soybean Diseases : NaN\nFertilizer Removal By Crop : 4.1\nA-J Media Vault : NaN\nAl-Quran (Free) : 4.6\nAl Quran (Tafsir & by Word) : 4.8\nAl Quran Indonesia : 4.8\nAl'Quran Bahasa Indonesia : 4.6\nAl Quran Al karim : 4.6\nAl-Muhaffiz : 4.7\nAl Quran : EAlim - Translations & MP3 Offline : 4.5\nAl-Quran 30 Juz free copies : 4.5\nKoran Read &MP3 30 Juz Offline : 4.8\nHafizi Quran 15 lines per page : 4.7\nQuran for Android : 4.7\nSurah Al-Waqiah : 4.7\nHisnul Al Muslim - Hisn Invocations & Adhkaar : 4.6\nSatellite AR : 4.1\nAudiobooks from Audible : 4.5\nKinot & Eichah for Tisha B'Av : 4.4\nAW Tozer Devotionals - Daily : 4.2\nTozer Devotional -Series 1 : 5.0\nThe Pursuit of God : 4.8\nAY Sing : 4.8\nAy Hasnain k Nana Milad Naat : 4.3\nAy Mohabbat Teri Khatir Novel : 4.2\nArizona Statutes, ARS (AZ Law) : 3.9\nOxford A-Z of English Usage : 4.0\nBD Fishpedia : 4.8\nBD All Sim Offer : 4.5\nYouboox - Livres, BD et magazines : 3.7\nB&H Kids AR : 3.9\nB y H Niños ES : 4.6\nDictionary.com: Find Definitions for English Words : 4.6\nEnglish Dictionary - Offline : 4.4\nBible KJV : 4.5\nBorneo Bible, BM Bible : 4.9\nMOD Black for BM : NaN\nBM Box : 4.3\nAnime Mod for BM : NaN\nNOOK: Read eBooks & Magazines : 4.5\nNOOK Audiobooks : 3.5\nNOOK App for NOOK Devices : 4.7\nBrowsery by Barnes & Noble : 4.7\nbp e-store : 4.4\nBrilliant Quotes: Life, Love, Family & Motivation : 4.5\nBR Ambedkar Biography & Quotes : 4.6\nBU Alsace : NaN\nCatholic La Bu Zo Kam : 5.0\nKhrifa Hla Bu (Solfa) : NaN\nKristian Hla Bu : 4.8\nSA HLA BU : 4.7\nLearn SAP BW : NaN\nLearn SAP BW on HANA : NaN\nCA Laws 2018 (California Laws and Codes) : 3.9\nBootable Methods(USB-CD-DVD) : 3.4\ncloudLibrary : 4.0\nSDA Collegiate Quarterly : 4.5\nSabbath School : 4.7\nCypress College Library : NaN\nStats Royale for Clash Royale : 4.5\nGATE 21 years CS Papers(2011-2018 Solved) : NaN\nLearn CT Scan Of Head : 4.1\nEasy Cv maker 2018 : 3.9\nHow to Write CV : 4.6\nCW Nuclear : 3.3\nCY Spray nozzle : NaN\nBibleRead En Cy Zh Yue : NaN\nCZ-Help : 5.0\nModlitební knížka CZ : NaN\nGuide for DB Xenoverse : 4.2\nGuide for DB Xenoverse 2 : 4.4\nGuide for IMS DB : NaN\nDC HSEMA : 3.8\nDC Public Library : 4.2\nPainting Lulu DC Super Friends : NaN\nDictionary : 4.5\nFix Error Google Playstore : 4.3\nD. H. Lawrence Poems FREE : NaN\nBilingual Dictionary Audio App : 2.7\nDM Screen : 4.4\nwikiHow: how to do anything : 4.4\nDr. Doug's Tips : 4.0\nBible du Semeur-BDS (French) : 4.5\nLa citadelle du musulman : 4.5\nDV 2019 Entry Guide : 4.5\nDV 2019 - EDV Photo & Form : 3.9\nDV 2018 Winners Guide : 4.8\nEB Annual Meetings : 3.5\nEC - AP & Telangana : 3.5\nTN Patta Citta & EC : 3.8\nAP Stamps and Registration : 3.4\nCompactiMa EC pH Calibration : NaN\nEGW Writings 2 : 4.7\nEGW Writings : 4.7\nBible with EGW Comments : 4.7\nMy Little Pony AR Guide : 3.3\nSDA Sabbath School Quarterly : 4.7\nDuaa Ek Ibaadat : 4.9\nSpanish English Translator : 4.2\nDictionary - Merriam-Webster : 4.5\nJW Library : 4.9\nOxford Dictionary of English : Free : 4.1\nEnglish Hindi Dictionary : 4.4\nEnglish to Hindi Dictionary : 4.1\nEP Research Service : 4.7\nHymnes et Louanges : 4.4\nEU Charter : 4.6\nEU Data Protection : 3.5\nEU IP Codes : NaN\nEW PDF : NaN\nBakaReader EX : 4.3\nEZ Quran : 4.6\nFA Part 1 & 2 Past Papers Solved Free – Offline : 3.9\nLa Fe de Jesus : NaN\nLa Fe de Jesús : NaN\nLe Fe de Jesus : NaN\nFlorida - Pocket Brainbook : 4.6\nFlorida Statutes (FL Code) : 3.2\nEnglish To Shona Dictionary : 4.6\nGreek Bible FP (Audio) : NaN\nGolden Dictionary (FR-AR) : 4.2\nFanfic-FR : 3.3\nBulgarian French Dictionary Fr : 4.6\nChemin (fr) : 4.8\nThe SCP Foundation DB fr nn5n : 4.5\n"
    }
   ],
   "source": [
    "for app in android_final:\n",
    "    if app[1] == 'BOOKS_AND_REFERENCE':\n",
    "        print(app[0],':',app[2])"
   ]
  },
  {
   "cell_type": "markdown",
   "metadata": {},
   "source": [
    "For Google Play data set, it seems like they signify apps without ratings with a NaN value. I want to make sure that these apps are excluded from our analysis to prevent any errors when performing the average rating calculation"
   ]
  },
  {
   "cell_type": "code",
   "execution_count": 33,
   "metadata": {},
   "outputs": [
    {
     "output_type": "stream",
     "name": "stdout",
     "text": "('EVENTS', 4.435555555555557)\n('BOOKS_AND_REFERENCE', 4.346753246753246)\n('EDUCATION', 4.3401960784313705)\n('PARENTING', 4.3395833333333345)\n('ART_AND_DESIGN', 4.338181818181818)\n('PERSONALIZATION', 4.291555555555557)\n('BEAUTY', 4.278571428571428)\n('SOCIAL', 4.25159574468085)\n('HEALTH_AND_FITNESS', 4.233333333333333)\n('WEATHER', 4.229230769230768)\n('SHOPPING', 4.221387283236996)\n('GAME', 4.218372703412077)\n('SPORTS', 4.213135593220339)\n('AUTO_AND_VEHICLES', 4.184722222222223)\n('LIBRARIES_AND_DEMO', 4.178125)\n('COMICS', 4.177358490566039)\n('FAMILY', 4.169251700680277)\n('FOOD_AND_DRINK', 4.1673913043478255)\n('PRODUCTIVITY', 4.16461538461539)\n('MEDICAL', 4.147807017543858)\n('PHOTOGRAPHY', 4.144104803493449)\n('HOUSE_AND_HOME', 4.140983606557378)\n('FINANCE', 4.128125000000001)\n('ENTERTAINMENT', 4.115)\n('NEWS_AND_MAGAZINES', 4.103076923076923)\n('BUSINESS', 4.102390438247011)\n('COMMUNICATION', 4.1019323671497565)\n('LIFESTYLE', 4.082374100719423)\n('TRAVEL_AND_LOCAL', 4.059195402298849)\n('MAPS_AND_NAVIGATION', 4.032727272727272)\n('VIDEO_PLAYERS', 4.030882352941177)\n('TOOLS', 4.010987261146498)\n('DATING', 3.9824427480916027)\n"
    }
   ],
   "source": [
    "ratings_android = freq_table(android_final, 1)\n",
    "\n",
    "unsorted_ratings_android = {}\n",
    "\n",
    "for category in ratings_android:\n",
    "    total = 0                  # Store sum of installs for each genre\n",
    "    len_ratings = 0            # Store number of apps specific to the genre\n",
    "    for app in android_final:\n",
    "        category_app = app[1]\n",
    "        n_ratings = app[2]\n",
    "        if category_app == category and n_ratings != 'NaN': # Exclude apps with NaN rating\n",
    "            installs = app[5]\n",
    "            installs = installs.replace('+','')   # Remove plus signs\n",
    "            installs = installs.replace(',','')   # Remove commas\n",
    "            installs = float(installs)\n",
    "            n_ratings = float(app[2])\n",
    "            if installs < 100000000:              # Exclude apps with over 100 million installs\n",
    "                total += n_ratings\n",
    "                len_ratings += 1\n",
    "    avg_n_ratings = total / len_ratings           # Compute the average rating value\n",
    "    unsorted_ratings_android[category] = avg_n_ratings # Store the value to an unsorted dictionary\n",
    "\n",
    "# Sort the dictionary values into a list of tuples and assign it to a new variable\n",
    "sorted_ratings_android = sorted(unsorted_ratings_android.items(), key=operator.itemgetter(1), reverse=True)\n",
    "\n",
    "for item in sorted_ratings_android:\n",
    "    print(item)"
   ]
  },
  {
   "cell_type": "markdown",
   "metadata": {},
   "source": [
    "Similar to the IOS App Store market, Books and Reference also shows up as the second highest rated genre on the Google Play market. This means that the market is generally receptive and willing to advocate for apps within the Book genre. I can proceed with the idea to develop an app within the Book genre because there is potential for growth and monetization."
   ]
  },
  {
   "cell_type": "markdown",
   "metadata": {},
   "source": [
    "### Conclusion\n",
    "In this project, I analyzed IOS App Store and Google Play data to determine what type of app should be built to best target both markets.\n",
    "\n",
    "My conclusion is to build a book app that functions as a reference or guide for photographers. I also found that both markets are already oversaturated by entertainment apps. Therefore, I decided to go with a combination of the most popular genres from each market which are Books for App Store and Photography for Google Play. For example, I can try to develop a Book app based on various photography guidebooks. The app can contain photography tips, reference guide from experts, and discussion boards on various photography topics. Based on the ratings data, I also affirmed that both markets are eager to support book apps, which can help us with our future growth and monetization plans."
   ]
  },
  {
   "cell_type": "code",
   "execution_count": null,
   "metadata": {},
   "outputs": [],
   "source": []
  }
 ],
 "metadata": {
  "language_info": {
   "codemirror_mode": {
    "name": "ipython",
    "version": 2
   },
   "file_extension": ".py",
   "mimetype": "text/x-python",
   "name": "python",
   "nbconvert_exporter": "python",
   "pygments_lexer": "ipython2",
   "version": "3.8.2-final"
  },
  "orig_nbformat": 2,
  "kernelspec": {
   "name": "python38264bitd5a374f6046048c49afaeebcc4ba0a85",
   "display_name": "Python 3.8.2 64-bit"
  }
 },
 "nbformat": 4,
 "nbformat_minor": 2
}